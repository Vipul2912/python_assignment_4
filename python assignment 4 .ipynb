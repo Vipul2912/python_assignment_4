{
 "cells": [
  {
   "cell_type": "code",
   "execution_count": 2,
   "metadata": {},
   "outputs": [
    {
     "name": "stdout",
     "output_type": "stream",
     "text": [
      "Enter side 14\n",
      "Enter side 25\n",
      "Enter side 16\n"
     ]
    }
   ],
   "source": [
    "# solution 1.1\n",
    "a = int(input(\"Enter side 1\"))\n",
    "b = int(input(\"Enter side 2\"))\n",
    "c = int(input(\"Enter side 1\"))\n",
    "\n",
    "\n",
    "def area(a,b,c):\n",
    "    s = (a+b+c)/2\n",
    "    return (s*(s-a)*(s-b)*(s-c)) ** 0.5\n",
    "\n"
   ]
  },
  {
   "cell_type": "code",
   "execution_count": 3,
   "metadata": {},
   "outputs": [
    {
     "name": "stdout",
     "output_type": "stream",
     "text": [
      "9.921567416492215\n"
     ]
    }
   ],
   "source": [
    "ar = area(a,b,c)\n",
    "print(ar)"
   ]
  },
  {
   "cell_type": "code",
   "execution_count": 21,
   "metadata": {},
   "outputs": [
    {
     "name": "stdout",
     "output_type": "stream",
     "text": [
      "Enter spaced separater words for listhello my name is vipul tyagi\n",
      "2\n",
      "['hello', 'name', 'vipul', 'tyagi']\n"
     ]
    }
   ],
   "source": [
    "# solution 1.2\n",
    "wordList = input(\"Enter spaced separater words for list\")\n",
    "l = [i for i in wordList.split(\" \")]\n",
    "n = int(input())\n",
    "\n",
    "listNew = []\n",
    "for i in l:\n",
    "    if (len(i)>n):\n",
    "#         print(i)\n",
    "        listNew.append(i)\n",
    "print((listNew))\n",
    "    "
   ]
  },
  {
   "cell_type": "code",
   "execution_count": 23,
   "metadata": {},
   "outputs": [
    {
     "name": "stdout",
     "output_type": "stream",
     "text": [
      "Enter spaced separater words for listab cde erty\n",
      "[2, 3, 4]\n"
     ]
    }
   ],
   "source": [
    "# solution 2.1\n",
    "input_word_list = input(\"Enter spaced separater words for list\")\n",
    "list1 = [i for i in input_word_list.split(\" \")]\n",
    "empty_list = []\n",
    "for i in list1:\n",
    "    empty_list.append(len(i))\n",
    "print(empty_list)\n",
    "    \n"
   ]
  },
  {
   "cell_type": "code",
   "execution_count": null,
   "metadata": {},
   "outputs": [],
   "source": [
    "a = input(\"Enter a character\")\n",
    "\n",
    "def check_for_vowel(a):\n",
    "    if(a==\"a\" or a=='i'or a=='e'or a=='o'or a=='u'):\n",
    "        return True\n",
    "    elif(a==\"A\" or a=='I'or a=='E'or a=='O'or a=='U'):\n",
    "        return True\n",
    "    else:\n",
    "        return False\n",
    "    \n",
    "x = check_for_vowel(a)\n",
    "print(x)"
   ]
  }
 ],
 "metadata": {
  "kernelspec": {
   "display_name": "Python 3",
   "language": "python",
   "name": "python3"
  },
  "language_info": {
   "codemirror_mode": {
    "name": "ipython",
    "version": 3
   },
   "file_extension": ".py",
   "mimetype": "text/x-python",
   "name": "python",
   "nbconvert_exporter": "python",
   "pygments_lexer": "ipython3",
   "version": "3.8.3"
  }
 },
 "nbformat": 4,
 "nbformat_minor": 4
}
